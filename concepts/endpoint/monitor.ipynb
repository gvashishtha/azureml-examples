{
 "metadata": {
  "language_info": {
   "codemirror_mode": {
    "name": "ipython",
    "version": 3
   },
   "file_extension": ".py",
   "mimetype": "text/x-python",
   "name": "python",
   "nbconvert_exporter": "python",
   "pygments_lexer": "ipython3",
   "version": "3.7.7-final"
  },
  "orig_nbformat": 2,
  "kernelspec": {
   "name": "Python 3.7.7 64-bit ('azureml': conda)",
   "display_name": "Python 3.7.7 64-bit ('azureml': conda)",
   "metadata": {
    "interpreter": {
     "hash": "53514593536e52de022f29ef618678eddccd581b6db5dc532e9838fb19203af5"
    }
   }
  }
 },
 "nbformat": 4,
 "nbformat_minor": 2,
 "cells": [
  {
   "source": [
    "# Monitor performance and input data in a deployed webservice\n",
    "\n",
    "Learn how to instrument your scoring scripts to log debugging output and model payloads, while also sending performance metrics to Application Insights.\n",
    "\n",
    "Then, feed in simulated data to learn how drift detection works.\n"
   ],
   "cell_type": "markdown",
   "metadata": {}
  },
  {
   "cell_type": "code",
   "execution_count": 80,
   "metadata": {},
   "outputs": [],
   "source": [
    "## Get workspace"
   ]
  },
  {
   "cell_type": "code",
   "execution_count": 1,
   "metadata": {},
   "outputs": [
    {
     "output_type": "execute_result",
     "data": {
      "text/plain": [
       "Workspace.create(name='default', subscription_id='6560575d-fa06-4e7d-95fb-f962e74efd7a', resource_group='azureml-examples')"
      ]
     },
     "metadata": {},
     "execution_count": 1
    }
   ],
   "source": [
    "from azureml.core import Workspace\n",
    "\n",
    "ws = Workspace.from_config()\n",
    "ws"
   ]
  },
  {
   "source": [
    "## Get path to root of repo"
   ],
   "cell_type": "markdown",
   "metadata": {}
  },
  {
   "cell_type": "code",
   "execution_count": 15,
   "metadata": {},
   "outputs": [],
   "source": [
    "import git\n",
    "from pathlib import Path\n",
    "\n",
    "# get root of git repo\n",
    "prefix = Path(git.Repo(\".\", search_parent_directories=True).working_tree_dir)"
   ]
  },
  {
   "source": [
    "## Get compute target"
   ],
   "cell_type": "markdown",
   "metadata": {}
  },
  {
   "cell_type": "code",
   "execution_count": 16,
   "metadata": {},
   "outputs": [],
   "source": [
    "from azureml.core.compute import AksCompute\n",
    "\n",
    "#AksCompute.list(workspace=ws)\n",
    "compute = AksCompute(ws, 'aks-cpu-deploy')"
   ]
  },
  {
   "source": [
    "## Deploy webservice with logging enabled"
   ],
   "cell_type": "markdown",
   "metadata": {}
  },
  {
   "cell_type": "code",
   "execution_count": 164,
   "metadata": {},
   "outputs": [
    {
     "output_type": "stream",
     "name": "stdout",
     "text": [
      "Generating Docker build context.\n",
      "Package creation Succeeded\n",
      "Logging into Docker registry 0e14976437204610b0f33e3f974544ac.azurecr.io\n",
      "Logging into Docker registry 0e14976437204610b0f33e3f974544ac.azurecr.io\n",
      "Building Docker image from Dockerfile...\n",
      "Step 1/5 : FROM 0e14976437204610b0f33e3f974544ac.azurecr.io/azureml/azureml_4c46604794d900054fa72c5dc5b83410\n",
      " ---> 2d590c4e9b9a\n",
      "Step 2/5 : COPY azureml-app /var/azureml-app\n",
      " ---> 85f57c448b18\n",
      "Step 3/5 : RUN mkdir -p '/var/azureml-app' && echo eyJhY2NvdW50Q29udGV4dCI6eyJzdWJzY3JpcHRpb25JZCI6IjY1NjA1NzVkLWZhMDYtNGU3ZC05NWZiLWY5NjJlNzRlZmQ3YSIsInJlc291cmNlR3JvdXBOYW1lIjoiYXp1cmVtbC1leGFtcGxlcyIsImFjY291bnROYW1lIjoiZGVmYXVsdCIsIndvcmtzcGFjZUlkIjoiMGUxNDk3NjQtMzcyMC00NjEwLWIwZjMtM2UzZjk3NDU0NGFjIn0sIm1vZGVscyI6e30sIm1vZGVsc0luZm8iOnt9fQ== | base64 --decode > /var/azureml-app/model_config_map.json\n",
      " ---> Running in 0bcb0b37ef6c\n",
      " ---> bfa8fc6da87e\n",
      "Step 4/5 : RUN mv '/var/azureml-app/tmpa9d06wmn.py' /var/azureml-app/main.py\n",
      " ---> Running in fa4d2f8dc113\n",
      " ---> 44a24a1d7814\n",
      "Step 5/5 : CMD [\"runsvdir\",\"/var/runit\"]\n",
      " ---> Running in 8653b3051269\n",
      " ---> e5ed0ae3a54f\n",
      "Successfully built e5ed0ae3a54f\n",
      "Successfully tagged local-test:latest\n",
      "Container has been successfully cleaned up.\n",
      "Image sha256:bc95937779208693096d33d7b063e33be91283410cc363149005bf7334199744 successfully removed.\n",
      "Starting Docker container...\n",
      "Docker container running.\n",
      "Checking container health...\n",
      "ERROR - Error: Container has crashed. Did your init method fail?\n",
      "\n",
      "\n",
      "Container Logs:\n",
      "2020-10-23T21:09:54,760707900+00:00 - gunicorn/run \n",
      "2020-10-23T21:09:54,760804600+00:00 - rsyslog/run \n",
      "2020-10-23T21:09:54,762870000+00:00 - iot-server/run \n",
      "2020-10-23T21:09:54,763295300+00:00 - nginx/run \n",
      "/usr/sbin/nginx: /azureml-envs/azureml_1d4ca3f5e2f41bbcb1793fb78e0a1acf/lib/libcrypto.so.1.0.0: no version information available (required by /usr/sbin/nginx)\n",
      "/usr/sbin/nginx: /azureml-envs/azureml_1d4ca3f5e2f41bbcb1793fb78e0a1acf/lib/libcrypto.so.1.0.0: no version information available (required by /usr/sbin/nginx)\n",
      "/usr/sbin/nginx: /azureml-envs/azureml_1d4ca3f5e2f41bbcb1793fb78e0a1acf/lib/libssl.so.1.0.0: no version information available (required by /usr/sbin/nginx)\n",
      "/usr/sbin/nginx: /azureml-envs/azureml_1d4ca3f5e2f41bbcb1793fb78e0a1acf/lib/libssl.so.1.0.0: no version information available (required by /usr/sbin/nginx)\n",
      "/usr/sbin/nginx: /azureml-envs/azureml_1d4ca3f5e2f41bbcb1793fb78e0a1acf/lib/libssl.so.1.0.0: no version information available (required by /usr/sbin/nginx)\n",
      "EdgeHubConnectionString and IOTEDGE_IOTHUBHOSTNAME are not set. Exiting...\n",
      "2020-10-23T21:09:54,879585400+00:00 - iot-server/finish 1 0\n",
      "2020-10-23T21:09:54,881277900+00:00 - Exit code 1 is normal. Not restarting iot-server.\n",
      "Starting gunicorn 19.9.0\n",
      "Listening at: http://127.0.0.1:31311 (11)\n",
      "Using worker: sync\n",
      "worker timeout is set to 300\n",
      "Booting worker with pid: 46\n",
      "SPARK_HOME not set. Skipping PySpark Initialization.\n",
      "Initializing logger\n",
      "2020-10-23 21:09:55,857 | root | INFO | Starting up app insights client\n",
      "Starting up app insights client\n",
      "2020-10-23 21:09:55,857 | root | INFO | Starting up request id generator\n",
      "Starting up request id generator\n",
      "2020-10-23 21:09:55,858 | root | INFO | Starting up app insight hooks\n",
      "Starting up app insight hooks\n",
      "2020-10-23 21:09:55,858 | root | INFO | Invoking user's init function\n",
      "Invoking user's init function\n",
      "2020-10-23 21:09:55,858 | root | ERROR | User's init function failed\n",
      "User's init function failed\n",
      "2020-10-23 21:09:55,858 | root | ERROR | Encountered Exception Traceback (most recent call last):\n",
      "  File \"/var/azureml-server/aml_blueprint.py\", line 177, in register\n",
      "    main.init()\n",
      "  File \"/var/azureml-app/monitor/score.py\", line 7, in init\n",
      "    model = joblib.load('myfile.pkl')\n",
      "NameError: name 'joblib' is not defined\n",
      "\n",
      "Encountered Exception Traceback (most recent call last):\n",
      "  File \"/var/azureml-server/aml_blueprint.py\", line 177, in register\n",
      "    main.init()\n",
      "  File \"/var/azureml-app/monitor/score.py\", line 7, in init\n",
      "    model = joblib.load('myfile.pkl')\n",
      "NameError: name 'joblib' is not defined\n",
      "\n",
      "Worker exiting (pid: 46)\n",
      "Shutting down: Master\n",
      "Reason: Worker failed to boot.\n",
      "2020-10-23T21:09:55,975722000+00:00 - gunicorn/finish 3 0\n",
      "2020-10-23T21:09:55,977265200+00:00 - Exit code 3 is not normal. Killing image.\n",
      "\n"
     ]
    },
    {
     "output_type": "error",
     "ename": "WebserviceException",
     "evalue": "WebserviceException:\n\tMessage: Error: Container has crashed. Did your init method fail?\n\tInnerException None\n\tErrorResponse \n{\n    \"error\": {\n        \"message\": \"Error: Container has crashed. Did your init method fail?\"\n    }\n}",
     "traceback": [
      "\u001b[0;31m---------------------------------------------------------------------------\u001b[0m",
      "\u001b[0;31mWebserviceException\u001b[0m                       Traceback (most recent call last)",
      "\u001b[0;32m<ipython-input-164-066a8fd88d79>\u001b[0m in \u001b[0;36m<module>\u001b[0;34m\u001b[0m\n\u001b[1;32m     31\u001b[0m \u001b[0mservice\u001b[0m \u001b[0;34m=\u001b[0m \u001b[0mModel\u001b[0m\u001b[0;34m.\u001b[0m\u001b[0mdeploy\u001b[0m\u001b[0;34m(\u001b[0m\u001b[0mname\u001b[0m\u001b[0;34m=\u001b[0m\u001b[0;34m\"local-test\"\u001b[0m\u001b[0;34m,\u001b[0m \u001b[0mmodels\u001b[0m\u001b[0;34m=\u001b[0m\u001b[0;34m[\u001b[0m\u001b[0;34m]\u001b[0m\u001b[0;34m,\u001b[0m \u001b[0mworkspace\u001b[0m\u001b[0;34m=\u001b[0m\u001b[0mws\u001b[0m\u001b[0;34m,\u001b[0m \u001b[0minference_config\u001b[0m\u001b[0;34m=\u001b[0m\u001b[0minf_config\u001b[0m\u001b[0;34m,\u001b[0m \u001b[0mdeployment_config\u001b[0m\u001b[0;34m=\u001b[0m\u001b[0mtest\u001b[0m\u001b[0;34m,\u001b[0m \u001b[0moverwrite\u001b[0m\u001b[0;34m=\u001b[0m\u001b[0;32mTrue\u001b[0m\u001b[0;34m)\u001b[0m\u001b[0;34m\u001b[0m\u001b[0;34m\u001b[0m\u001b[0m\n\u001b[1;32m     32\u001b[0m \u001b[0;34m\u001b[0m\u001b[0m\n\u001b[0;32m---> 33\u001b[0;31m \u001b[0mservice\u001b[0m\u001b[0;34m.\u001b[0m\u001b[0mwait_for_deployment\u001b[0m\u001b[0;34m(\u001b[0m\u001b[0mshow_output\u001b[0m\u001b[0;34m=\u001b[0m\u001b[0;32mTrue\u001b[0m\u001b[0;34m)\u001b[0m\u001b[0;34m\u001b[0m\u001b[0;34m\u001b[0m\u001b[0m\n\u001b[0m",
      "\u001b[0;32m~/miniconda3/envs/azureml/lib/python3.7/site-packages/azureml/core/webservice/local.py\u001b[0m in \u001b[0;36mdecorated\u001b[0;34m(self, *args, **kwargs)\u001b[0m\n\u001b[1;32m     69\u001b[0m                 raise WebserviceException('Cannot call {}() when service is {}.'.format(func.__name__, self.state),\n\u001b[1;32m     70\u001b[0m                                           logger=module_logger)\n\u001b[0;32m---> 71\u001b[0;31m             \u001b[0;32mreturn\u001b[0m \u001b[0mfunc\u001b[0m\u001b[0;34m(\u001b[0m\u001b[0mself\u001b[0m\u001b[0;34m,\u001b[0m \u001b[0;34m*\u001b[0m\u001b[0margs\u001b[0m\u001b[0;34m,\u001b[0m \u001b[0;34m**\u001b[0m\u001b[0mkwargs\u001b[0m\u001b[0;34m)\u001b[0m\u001b[0;34m\u001b[0m\u001b[0;34m\u001b[0m\u001b[0m\n\u001b[0m\u001b[1;32m     72\u001b[0m         \u001b[0;32mreturn\u001b[0m \u001b[0mdecorated\u001b[0m\u001b[0;34m\u001b[0m\u001b[0;34m\u001b[0m\u001b[0m\n\u001b[1;32m     73\u001b[0m     \u001b[0;32mreturn\u001b[0m \u001b[0mdecorator\u001b[0m\u001b[0;34m\u001b[0m\u001b[0;34m\u001b[0m\u001b[0m\n",
      "\u001b[0;32m~/miniconda3/envs/azureml/lib/python3.7/site-packages/azureml/core/webservice/local.py\u001b[0m in \u001b[0;36mwait_for_deployment\u001b[0;34m(self, show_output)\u001b[0m\n\u001b[1;32m    601\u001b[0m                                    \u001b[0mself\u001b[0m\u001b[0;34m.\u001b[0m\u001b[0m_container\u001b[0m\u001b[0;34m,\u001b[0m\u001b[0;34m\u001b[0m\u001b[0;34m\u001b[0m\u001b[0m\n\u001b[1;32m    602\u001b[0m                                    \u001b[0mhealth_url\u001b[0m\u001b[0;34m=\u001b[0m\u001b[0mself\u001b[0m\u001b[0;34m.\u001b[0m\u001b[0m_internal_base_url\u001b[0m\u001b[0;34m,\u001b[0m\u001b[0;34m\u001b[0m\u001b[0;34m\u001b[0m\u001b[0m\n\u001b[0;32m--> 603\u001b[0;31m                                    cleanup_if_failed=False)\n\u001b[0m\u001b[1;32m    604\u001b[0m \u001b[0;34m\u001b[0m\u001b[0m\n\u001b[1;32m    605\u001b[0m             \u001b[0mself\u001b[0m\u001b[0;34m.\u001b[0m\u001b[0mstate\u001b[0m \u001b[0;34m=\u001b[0m \u001b[0mLocalWebservice\u001b[0m\u001b[0;34m.\u001b[0m\u001b[0mSTATE_RUNNING\u001b[0m\u001b[0;34m\u001b[0m\u001b[0;34m\u001b[0m\u001b[0m\n",
      "\u001b[0;32m~/miniconda3/envs/azureml/lib/python3.7/site-packages/azureml/_model_management/_util.py\u001b[0m in \u001b[0;36mcontainer_health_check\u001b[0;34m(docker_port, container, health_url, cleanup_if_failed)\u001b[0m\n\u001b[1;32m    739\u001b[0m             \u001b[0;31m# The container has started and crashed.\u001b[0m\u001b[0;34m\u001b[0m\u001b[0;34m\u001b[0m\u001b[0;34m\u001b[0m\u001b[0m\n\u001b[1;32m    740\u001b[0m             _raise_for_container_failure(container, cleanup_if_failed,\n\u001b[0;32m--> 741\u001b[0;31m                                          'Error: Container has crashed. Did your init method fail?')\n\u001b[0m\u001b[1;32m    742\u001b[0m \u001b[0;34m\u001b[0m\u001b[0m\n\u001b[1;32m    743\u001b[0m         \u001b[0;31m# The container hasn't crashed, so try to ping the health endpoint.\u001b[0m\u001b[0;34m\u001b[0m\u001b[0;34m\u001b[0m\u001b[0;34m\u001b[0m\u001b[0m\n",
      "\u001b[0;32m~/miniconda3/envs/azureml/lib/python3.7/site-packages/azureml/_model_management/_util.py\u001b[0m in \u001b[0;36m_raise_for_container_failure\u001b[0;34m(container, cleanup, message)\u001b[0m\n\u001b[1;32m   1252\u001b[0m         \u001b[0mcleanup_container\u001b[0m\u001b[0;34m(\u001b[0m\u001b[0mcontainer\u001b[0m\u001b[0;34m)\u001b[0m\u001b[0;34m\u001b[0m\u001b[0;34m\u001b[0m\u001b[0m\n\u001b[1;32m   1253\u001b[0m \u001b[0;34m\u001b[0m\u001b[0m\n\u001b[0;32m-> 1254\u001b[0;31m     \u001b[0;32mraise\u001b[0m \u001b[0mWebserviceException\u001b[0m\u001b[0;34m(\u001b[0m\u001b[0mmessage\u001b[0m\u001b[0;34m,\u001b[0m \u001b[0mlogger\u001b[0m\u001b[0;34m=\u001b[0m\u001b[0mmodule_logger\u001b[0m\u001b[0;34m)\u001b[0m\u001b[0;34m\u001b[0m\u001b[0;34m\u001b[0m\u001b[0m\n\u001b[0m\u001b[1;32m   1255\u001b[0m \u001b[0;34m\u001b[0m\u001b[0m\n\u001b[1;32m   1256\u001b[0m \u001b[0;34m\u001b[0m\u001b[0m\n",
      "\u001b[0;31mWebserviceException\u001b[0m: WebserviceException:\n\tMessage: Error: Container has crashed. Did your init method fail?\n\tInnerException None\n\tErrorResponse \n{\n    \"error\": {\n        \"message\": \"Error: Container has crashed. Did your init method fail?\"\n    }\n}"
     ]
    }
   ],
   "source": [
    "from azureml.core.model import InferenceConfig, Model\n",
    "from azureml.core import Environment\n",
    "from azureml.core.environment import CondaDependencies\n",
    "from azureml.core.webservice import AksWebservice, LocalWebservice\n",
    "\n",
    "#env = Environment.get(ws, 'AzureML-Minimal')\n",
    "env = Environment(name=\"myenv\")\n",
    "\n",
    "conda_dep = CondaDependencies()\n",
    "packages_to_add = ['schedule', 'azure-storage-blob']\n",
    "for package in packages_to_add:\n",
    "    conda_dep.add_pip_package(package)\n",
    "\n",
    "env.python.conda_dependencies = conda_dep\n",
    "\n",
    "dstore = ws.get_default_datastore()\n",
    "env.environment_variables['DS_CONNECTION_STRING'] = \\\n",
    "    'DefaultEndpointsProtocol=' + dstore.protocol + \\\n",
    "    ';AccountName=' + dstore.account_name + ';AccountKey=' \\\n",
    "    + dstore.account_key + ';EndpointSuffix=' + dstore.endpoint\n",
    "\n",
    "inf_config = InferenceConfig(\n",
    "    environment=env,\n",
    "    source_directory=prefix.joinpath(\"code\", \"deployment\", \"monitor\"),\n",
    "    entry_script=\"score.py\")\n",
    "\n",
    "deploy_config = AksWebservice.deploy_configuration()\n",
    "test = LocalWebservice.deploy_configuration(port=6789)\n",
    "\n",
    "#service = Model.deploy(name=\"monitor\", models=[], workspace=ws, inference_config=inf_config, deployment_config=deploy_config, deployment_target=compute, overwrite=True)\n",
    "service = Model.deploy(name=\"local-test\", models=[], workspace=ws, inference_config=inf_config, deployment_config=test, overwrite=True)\n",
    "\n",
    "service.wait_for_deployment(show_output=True)"
   ]
  },
  {
   "cell_type": "code",
   "execution_count": 165,
   "metadata": {
    "tags": []
   },
   "outputs": [
    {
     "output_type": "stream",
     "name": "stdout",
     "text": [
      "2020-10-23T21:09:54,760707900+00:00 - gunicorn/run \n2020-10-23T21:09:54,760804600+00:00 - rsyslog/run \n2020-10-23T21:09:54,762870000+00:00 - iot-server/run \n2020-10-23T21:09:54,763295300+00:00 - nginx/run \n/usr/sbin/nginx: /azureml-envs/azureml_1d4ca3f5e2f41bbcb1793fb78e0a1acf/lib/libcrypto.so.1.0.0: no version information available (required by /usr/sbin/nginx)\n/usr/sbin/nginx: /azureml-envs/azureml_1d4ca3f5e2f41bbcb1793fb78e0a1acf/lib/libcrypto.so.1.0.0: no version information available (required by /usr/sbin/nginx)\n/usr/sbin/nginx: /azureml-envs/azureml_1d4ca3f5e2f41bbcb1793fb78e0a1acf/lib/libssl.so.1.0.0: no version information available (required by /usr/sbin/nginx)\n/usr/sbin/nginx: /azureml-envs/azureml_1d4ca3f5e2f41bbcb1793fb78e0a1acf/lib/libssl.so.1.0.0: no version information available (required by /usr/sbin/nginx)\n/usr/sbin/nginx: /azureml-envs/azureml_1d4ca3f5e2f41bbcb1793fb78e0a1acf/lib/libssl.so.1.0.0: no version information available (required by /usr/sbin/nginx)\nEdgeHubConnectionString and IOTEDGE_IOTHUBHOSTNAME are not set. Exiting...\n2020-10-23T21:09:54,879585400+00:00 - iot-server/finish 1 0\n2020-10-23T21:09:54,881277900+00:00 - Exit code 1 is normal. Not restarting iot-server.\nStarting gunicorn 19.9.0\nListening at: http://127.0.0.1:31311 (11)\nUsing worker: sync\nworker timeout is set to 300\nBooting worker with pid: 46\nSPARK_HOME not set. Skipping PySpark Initialization.\nInitializing logger\n2020-10-23 21:09:55,857 | root | INFO | Starting up app insights client\nStarting up app insights client\n2020-10-23 21:09:55,857 | root | INFO | Starting up request id generator\nStarting up request id generator\n2020-10-23 21:09:55,858 | root | INFO | Starting up app insight hooks\nStarting up app insight hooks\n2020-10-23 21:09:55,858 | root | INFO | Invoking user's init function\nInvoking user's init function\n2020-10-23 21:09:55,858 | root | ERROR | User's init function failed\nUser's init function failed\n2020-10-23 21:09:55,858 | root | ERROR | Encountered Exception Traceback (most recent call last):\n  File \"/var/azureml-server/aml_blueprint.py\", line 177, in register\n    main.init()\n  File \"/var/azureml-app/monitor/score.py\", line 7, in init\n    model = joblib.load('myfile.pkl')\nNameError: name 'joblib' is not defined\n\nEncountered Exception Traceback (most recent call last):\n  File \"/var/azureml-server/aml_blueprint.py\", line 177, in register\n    main.init()\n  File \"/var/azureml-app/monitor/score.py\", line 7, in init\n    model = joblib.load('myfile.pkl')\nNameError: name 'joblib' is not defined\n\nWorker exiting (pid: 46)\nShutting down: Master\nReason: Worker failed to boot.\n2020-10-23T21:09:55,975722000+00:00 - gunicorn/finish 3 0\n2020-10-23T21:09:55,977265200+00:00 - Exit code 3 is not normal. Killing image.\n\n"
     ]
    }
   ],
   "source": [
    "print(service.get_logs())"
   ]
  },
  {
   "cell_type": "code",
   "execution_count": 150,
   "metadata": {},
   "outputs": [
    {
     "output_type": "execute_result",
     "data": {
      "text/plain": [
       "{}"
      ]
     },
     "metadata": {},
     "execution_count": 150
    }
   ],
   "source": [
    "from datetime import date\n",
    "number = 3\n",
    "\n",
    "data = json.dumps([str(date.today()), str(number)])\n",
    "service.run(data)"
   ]
  },
  {
   "source": [
    "## Update service to collect model data and enable Application Insights"
   ],
   "cell_type": "markdown",
   "metadata": {}
  },
  {
   "cell_type": "code",
   "execution_count": 157,
   "metadata": {},
   "outputs": [
    {
     "output_type": "stream",
     "name": "stdout",
     "text": [
      "Generating Docker build context.\n",
      "Package creation Succeeded\n",
      "Logging into Docker registry 0e14976437204610b0f33e3f974544ac.azurecr.io\n",
      "Logging into Docker registry 0e14976437204610b0f33e3f974544ac.azurecr.io\n",
      "Building Docker image from Dockerfile...\n",
      "Step 1/5 : FROM 0e14976437204610b0f33e3f974544ac.azurecr.io/azureml/azureml_4c46604794d900054fa72c5dc5b83410\n",
      " ---> 2d590c4e9b9a\n",
      "Step 2/5 : COPY azureml-app /var/azureml-app\n",
      " ---> f3b4ae300805\n",
      "Step 3/5 : RUN mkdir -p '/var/azureml-app' && echo eyJhY2NvdW50Q29udGV4dCI6eyJzdWJzY3JpcHRpb25JZCI6IjY1NjA1NzVkLWZhMDYtNGU3ZC05NWZiLWY5NjJlNzRlZmQ3YSIsInJlc291cmNlR3JvdXBOYW1lIjoiYXp1cmVtbC1leGFtcGxlcyIsImFjY291bnROYW1lIjoiZGVmYXVsdCIsIndvcmtzcGFjZUlkIjoiMGUxNDk3NjQtMzcyMC00NjEwLWIwZjMtM2UzZjk3NDU0NGFjIn0sIm1vZGVscyI6e30sIm1vZGVsc0luZm8iOnt9fQ== | base64 --decode > /var/azureml-app/model_config_map.json\n",
      " ---> Running in bb94429ce434\n",
      " ---> b4af0cc3ae7d\n",
      "Step 4/5 : RUN mv '/var/azureml-app/tmplzou33_x.py' /var/azureml-app/main.py\n",
      " ---> Running in acc99fa1a7d3\n",
      " ---> 73d1b3348457\n",
      "Step 5/5 : CMD [\"runsvdir\",\"/var/runit\"]\n",
      " ---> Running in 973cfe5f4d91\n",
      " ---> bc9593777920\n",
      "Successfully built bc9593777920\n",
      "Successfully tagged local-test:latest\n",
      "Container has been successfully cleaned up.\n",
      "Image sha256:b7bc6f07f0b66b889d5dc723193bc8df9661a34286775ded4e71fa1214f07487 successfully removed.\n",
      "Starting Docker container...\n",
      "Docker container running.\n",
      "Checking container health...\n",
      "Local webservice is running at http://localhost:6789\n"
     ]
    }
   ],
   "source": [
    "inf_config = InferenceConfig(\n",
    "    environment=env,\n",
    "    source_directory=prefix.joinpath(\"code\", \"deployment\", \"monitor\"),\n",
    "    entry_script=\"score.py\")\n",
    "\n",
    "\n",
    "service.update(inference_config=inf_config, enable_app_insights=True, collect_model_data=True)\n",
    "service.wait_for_deployment(show_output=True)"
   ]
  },
  {
   "source": [
    "## Create baseline data"
   ],
   "cell_type": "markdown",
   "metadata": {}
  },
  {
   "cell_type": "code",
   "execution_count": 152,
   "metadata": {},
   "outputs": [
    {
     "output_type": "stream",
     "name": "stdout",
     "text": [
      "posting request with data [\"2020-10-23\", \"3\"]\n",
      "posting request with data [\"2020-10-23\", \"3\"]\n",
      "posting request with data [\"2020-10-23\", \"4\"]\n",
      "posting request with data [\"2020-10-23\", \"0\"]\n",
      "posting request with data [\"2020-10-23\", \"0\"]\n",
      "posting request with data [\"2020-10-23\", \"0\"]\n",
      "posting request with data [\"2020-10-23\", \"3\"]\n",
      "posting request with data [\"2020-10-23\", \"4\"]\n",
      "posting request with data [\"2020-10-23\", \"2\"]\n",
      "posting request with data [\"2020-10-23\", \"0\"]\n",
      "posting request with data [\"2020-10-23\", \"4\"]\n",
      "posting request with data [\"2020-10-23\", \"1\"]\n",
      "posting request with data [\"2020-10-23\", \"1\"]\n",
      "posting request with data [\"2020-10-23\", \"3\"]\n",
      "posting request with data [\"2020-10-23\", \"2\"]\n",
      "posting request with data [\"2020-10-23\", \"4\"]\n",
      "posting request with data [\"2020-10-23\", \"0\"]\n",
      "posting request with data [\"2020-10-23\", \"1\"]\n",
      "posting request with data [\"2020-10-23\", \"3\"]\n",
      "posting request with data [\"2020-10-23\", \"1\"]\n",
      "posting request with data [\"2020-10-23\", \"4\"]\n",
      "posting request with data [\"2020-10-23\", \"2\"]\n",
      "posting request with data [\"2020-10-23\", \"0\"]\n",
      "posting request with data [\"2020-10-23\", \"1\"]\n",
      "posting request with data [\"2020-10-23\", \"0\"]\n",
      "posting request with data [\"2020-10-23\", \"2\"]\n",
      "posting request with data [\"2020-10-23\", \"2\"]\n",
      "posting request with data [\"2020-10-23\", \"1\"]\n",
      "posting request with data [\"2020-10-23\", \"4\"]\n",
      "posting request with data [\"2020-10-23\", \"3\"]\n",
      "posting request with data [\"2020-10-23\", \"1\"]\n",
      "posting request with data [\"2020-10-23\", \"1\"]\n",
      "posting request with data [\"2020-10-23\", \"0\"]\n",
      "posting request with data [\"2020-10-23\", \"0\"]\n",
      "posting request with data [\"2020-10-23\", \"0\"]\n",
      "posting request with data [\"2020-10-23\", \"1\"]\n",
      "posting request with data [\"2020-10-23\", \"4\"]\n",
      "posting request with data [\"2020-10-23\", \"0\"]\n",
      "posting request with data [\"2020-10-23\", \"0\"]\n",
      "posting request with data [\"2020-10-23\", \"4\"]\n",
      "posting request with data [\"2020-10-23\", \"4\"]\n",
      "posting request with data [\"2020-10-23\", \"1\"]\n",
      "posting request with data [\"2020-10-23\", \"0\"]\n",
      "posting request with data [\"2020-10-23\", \"3\"]\n",
      "posting request with data [\"2020-10-23\", \"4\"]\n",
      "posting request with data [\"2020-10-23\", \"0\"]\n",
      "posting request with data [\"2020-10-23\", \"2\"]\n",
      "posting request with data [\"2020-10-23\", \"0\"]\n",
      "posting request with data [\"2020-10-23\", \"1\"]\n",
      "posting request with data [\"2020-10-23\", \"1\"]\n",
      "posting request with data [\"2020-10-23\", \"2\"]\n",
      "posting request with data [\"2020-10-23\", \"0\"]\n",
      "posting request with data [\"2020-10-23\", \"4\"]\n",
      "posting request with data [\"2020-10-23\", \"4\"]\n",
      "posting request with data [\"2020-10-23\", \"2\"]\n",
      "posting request with data [\"2020-10-23\", \"0\"]\n",
      "posting request with data [\"2020-10-23\", \"0\"]\n",
      "posting request with data [\"2020-10-23\", \"2\"]\n",
      "posting request with data [\"2020-10-23\", \"2\"]\n",
      "posting request with data [\"2020-10-23\", \"0\"]\n",
      "posting request with data [\"2020-10-23\", \"2\"]\n",
      "posting request with data [\"2020-10-23\", \"2\"]\n",
      "posting request with data [\"2020-10-23\", \"1\"]\n",
      "posting request with data [\"2020-10-23\", \"4\"]\n",
      "posting request with data [\"2020-10-23\", \"3\"]\n",
      "posting request with data [\"2020-10-23\", \"0\"]\n",
      "posting request with data [\"2020-10-23\", \"1\"]\n",
      "posting request with data [\"2020-10-23\", \"2\"]\n",
      "posting request with data [\"2020-10-23\", \"3\"]\n",
      "posting request with data [\"2020-10-23\", \"0\"]\n",
      "posting request with data [\"2020-10-23\", \"4\"]\n",
      "posting request with data [\"2020-10-23\", \"0\"]\n",
      "posting request with data [\"2020-10-23\", \"3\"]\n",
      "posting request with data [\"2020-10-23\", \"4\"]\n",
      "posting request with data [\"2020-10-23\", \"2\"]\n",
      "posting request with data [\"2020-10-23\", \"3\"]\n",
      "posting request with data [\"2020-10-23\", \"0\"]\n",
      "posting request with data [\"2020-10-23\", \"0\"]\n",
      "posting request with data [\"2020-10-23\", \"0\"]\n",
      "posting request with data [\"2020-10-23\", \"2\"]\n",
      "posting request with data [\"2020-10-23\", \"3\"]\n",
      "posting request with data [\"2020-10-23\", \"0\"]\n",
      "posting request with data [\"2020-10-23\", \"1\"]\n",
      "posting request with data [\"2020-10-23\", \"4\"]\n",
      "posting request with data [\"2020-10-23\", \"3\"]\n",
      "posting request with data [\"2020-10-23\", \"3\"]\n",
      "posting request with data [\"2020-10-23\", \"2\"]\n",
      "posting request with data [\"2020-10-23\", \"3\"]\n",
      "posting request with data [\"2020-10-23\", \"1\"]\n",
      "posting request with data [\"2020-10-23\", \"2\"]\n",
      "posting request with data [\"2020-10-23\", \"2\"]\n",
      "posting request with data [\"2020-10-23\", \"3\"]\n",
      "posting request with data [\"2020-10-23\", \"3\"]\n",
      "posting request with data [\"2020-10-23\", \"0\"]\n",
      "posting request with data [\"2020-10-23\", \"3\"]\n",
      "posting request with data [\"2020-10-23\", \"1\"]\n",
      "posting request with data [\"2020-10-23\", \"3\"]\n",
      "posting request with data [\"2020-10-23\", \"0\"]\n",
      "posting request with data [\"2020-10-23\", \"4\"]\n",
      "posting request with data [\"2020-10-23\", \"4\"]\n"
     ]
    }
   ],
   "source": [
    "import requests\n",
    "from datetime import date\n",
    "import json\n",
    "import random\n",
    "\n",
    "def feed_data_range(lower_bound, upper_bound, date):\n",
    "    for i in range(100):\n",
    "        number = random.randrange(lower_bound, upper_bound)\n",
    "        data = json.dumps([str(date), str(number)])\n",
    "\n",
    "        token = \"Bearer\" #f\"Bearer {service.get_keys()[0]}\"\n",
    "\n",
    "        headers = {\n",
    "            'Content-Type': 'application/json',\n",
    "            'Authorization': token}\n",
    "        print(f\"posting request with data {data}\")\n",
    "        out = requests.post(service.scoring_uri, data=data, headers=headers)\n",
    "\n",
    "feed_data_range(0, 5, date.today())\n",
    "\n",
    "#service.run(\"30\")"
   ]
  },
  {
   "source": [
    "## Create target data"
   ],
   "cell_type": "markdown",
   "metadata": {}
  },
  {
   "cell_type": "code",
   "execution_count": 155,
   "metadata": {},
   "outputs": [
    {
     "output_type": "stream",
     "name": "stdout",
     "text": [
      "posting request with data [\"2020-10-22\", \"12\"]\n",
      "posting request with data [\"2020-10-22\", \"13\"]\n",
      "posting request with data [\"2020-10-22\", \"11\"]\n",
      "posting request with data [\"2020-10-22\", \"11\"]\n",
      "posting request with data [\"2020-10-22\", \"12\"]\n",
      "posting request with data [\"2020-10-22\", \"11\"]\n",
      "posting request with data [\"2020-10-22\", \"12\"]\n",
      "posting request with data [\"2020-10-22\", \"10\"]\n",
      "posting request with data [\"2020-10-22\", \"13\"]\n",
      "posting request with data [\"2020-10-22\", \"11\"]\n",
      "posting request with data [\"2020-10-22\", \"11\"]\n",
      "posting request with data [\"2020-10-22\", \"10\"]\n",
      "posting request with data [\"2020-10-22\", \"10\"]\n",
      "posting request with data [\"2020-10-22\", \"10\"]\n",
      "posting request with data [\"2020-10-22\", \"12\"]\n",
      "posting request with data [\"2020-10-22\", \"13\"]\n",
      "posting request with data [\"2020-10-22\", \"14\"]\n",
      "posting request with data [\"2020-10-22\", \"14\"]\n",
      "posting request with data [\"2020-10-22\", \"12\"]\n",
      "posting request with data [\"2020-10-22\", \"10\"]\n",
      "posting request with data [\"2020-10-22\", \"11\"]\n",
      "posting request with data [\"2020-10-22\", \"11\"]\n",
      "posting request with data [\"2020-10-22\", \"12\"]\n",
      "posting request with data [\"2020-10-22\", \"10\"]\n",
      "posting request with data [\"2020-10-22\", \"12\"]\n",
      "posting request with data [\"2020-10-22\", \"13\"]\n",
      "posting request with data [\"2020-10-22\", \"11\"]\n",
      "posting request with data [\"2020-10-22\", \"12\"]\n",
      "posting request with data [\"2020-10-22\", \"11\"]\n",
      "posting request with data [\"2020-10-22\", \"13\"]\n",
      "posting request with data [\"2020-10-22\", \"10\"]\n",
      "posting request with data [\"2020-10-22\", \"12\"]\n",
      "posting request with data [\"2020-10-22\", \"12\"]\n",
      "posting request with data [\"2020-10-22\", \"11\"]\n",
      "posting request with data [\"2020-10-22\", \"11\"]\n",
      "posting request with data [\"2020-10-22\", \"12\"]\n",
      "posting request with data [\"2020-10-22\", \"10\"]\n",
      "posting request with data [\"2020-10-22\", \"11\"]\n",
      "posting request with data [\"2020-10-22\", \"13\"]\n",
      "posting request with data [\"2020-10-22\", \"10\"]\n",
      "posting request with data [\"2020-10-22\", \"10\"]\n",
      "posting request with data [\"2020-10-22\", \"14\"]\n",
      "posting request with data [\"2020-10-22\", \"11\"]\n",
      "posting request with data [\"2020-10-22\", \"13\"]\n",
      "posting request with data [\"2020-10-22\", \"11\"]\n",
      "posting request with data [\"2020-10-22\", \"10\"]\n",
      "posting request with data [\"2020-10-22\", \"13\"]\n",
      "posting request with data [\"2020-10-22\", \"11\"]\n",
      "posting request with data [\"2020-10-22\", \"13\"]\n",
      "posting request with data [\"2020-10-22\", \"12\"]\n",
      "posting request with data [\"2020-10-22\", \"13\"]\n",
      "posting request with data [\"2020-10-22\", \"13\"]\n",
      "posting request with data [\"2020-10-22\", \"11\"]\n",
      "posting request with data [\"2020-10-22\", \"13\"]\n",
      "posting request with data [\"2020-10-22\", \"10\"]\n",
      "posting request with data [\"2020-10-22\", \"10\"]\n",
      "posting request with data [\"2020-10-22\", \"12\"]\n",
      "posting request with data [\"2020-10-22\", \"10\"]\n",
      "posting request with data [\"2020-10-22\", \"10\"]\n",
      "posting request with data [\"2020-10-22\", \"14\"]\n",
      "posting request with data [\"2020-10-22\", \"10\"]\n",
      "posting request with data [\"2020-10-22\", \"12\"]\n",
      "posting request with data [\"2020-10-22\", \"12\"]\n",
      "posting request with data [\"2020-10-22\", \"10\"]\n",
      "posting request with data [\"2020-10-22\", \"13\"]\n",
      "posting request with data [\"2020-10-22\", \"12\"]\n",
      "posting request with data [\"2020-10-22\", \"10\"]\n",
      "posting request with data [\"2020-10-22\", \"12\"]\n",
      "posting request with data [\"2020-10-22\", \"13\"]\n",
      "posting request with data [\"2020-10-22\", \"13\"]\n",
      "posting request with data [\"2020-10-22\", \"10\"]\n",
      "posting request with data [\"2020-10-22\", \"14\"]\n",
      "posting request with data [\"2020-10-22\", \"12\"]\n",
      "posting request with data [\"2020-10-22\", \"11\"]\n",
      "posting request with data [\"2020-10-22\", \"11\"]\n",
      "posting request with data [\"2020-10-22\", \"13\"]\n",
      "posting request with data [\"2020-10-22\", \"13\"]\n",
      "posting request with data [\"2020-10-22\", \"12\"]\n",
      "posting request with data [\"2020-10-22\", \"11\"]\n",
      "posting request with data [\"2020-10-22\", \"11\"]\n",
      "posting request with data [\"2020-10-22\", \"11\"]\n",
      "posting request with data [\"2020-10-22\", \"10\"]\n",
      "posting request with data [\"2020-10-22\", \"12\"]\n",
      "posting request with data [\"2020-10-22\", \"13\"]\n",
      "posting request with data [\"2020-10-22\", \"13\"]\n",
      "posting request with data [\"2020-10-22\", \"14\"]\n",
      "posting request with data [\"2020-10-22\", \"11\"]\n",
      "posting request with data [\"2020-10-22\", \"14\"]\n",
      "posting request with data [\"2020-10-22\", \"12\"]\n",
      "posting request with data [\"2020-10-22\", \"13\"]\n",
      "posting request with data [\"2020-10-22\", \"10\"]\n",
      "posting request with data [\"2020-10-22\", \"10\"]\n",
      "posting request with data [\"2020-10-22\", \"14\"]\n",
      "posting request with data [\"2020-10-22\", \"14\"]\n",
      "posting request with data [\"2020-10-22\", \"12\"]\n",
      "posting request with data [\"2020-10-22\", \"10\"]\n",
      "posting request with data [\"2020-10-22\", \"12\"]\n",
      "posting request with data [\"2020-10-22\", \"14\"]\n",
      "posting request with data [\"2020-10-22\", \"10\"]\n",
      "posting request with data [\"2020-10-22\", \"10\"]\n"
     ]
    }
   ],
   "source": [
    "from datetime import timedelta\n",
    "\n",
    "feed_data_range(10, 15, date.today() - timedelta(days=1))"
   ]
  },
  {
   "cell_type": "code",
   "execution_count": 96,
   "metadata": {
    "tags": [
     "outputPrepend"
    ]
   },
   "outputs": [
    {
     "output_type": "stream",
     "name": "stdout",
     "text": [
      "plication/json\n2020-10-23 04:59:52,876 | root | INFO | \tAccept-Encoding: gzip, deflate\n\tAccept-Encoding: gzip, deflate\n2020-10-23 04:59:52,876 | root | INFO | \tAccept: */*\n\tAccept: */*\n2020-10-23 04:59:52,876 | root | INFO | \tX-Ms-Request-Id: fc77bc6a-85a4-4932-8b09-40da53e3baa6\n\tX-Ms-Request-Id: fc77bc6a-85a4-4932-8b09-40da53e3baa6\n2020-10-23 04:59:52,876 | root | INFO | Scoring Timer is set to 30.0 seconds\nScoring Timer is set to 30.0 seconds\nReceived [\"2020-10-23\", \"12\"]. Should show up in App Insights logs\n2020-10-23 04:59:52,877 | root | INFO | 200\n200\n127.0.0.1 - - [23/Oct/2020:04:59:52 +0000] \"POST /score HTTP/1.0\" 200 2 \"-\" \"python-requests/2.24.0\"\n2020-10-23 04:59:53,858 | root | INFO | Validation Request Content-Type\nValidation Request Content-Type\n2020-10-23 04:59:53,859 | root | INFO | \tHost: 40.76.146.87\n\tHost: 40.76.146.87\n2020-10-23 04:59:53,859 | root | INFO | \tX-Real-Ip: 10.240.1.12\n\tX-Real-Ip: 10.240.1.12\n2020-10-23 04:59:53,859 | root | INFO | \tX-Forwarded-For: 10.240.1.12\n\tX-Forwarded-For: 10.240.1.12\n2020-10-23 04:59:53,859 | root | INFO | \tX-Forwarded-Proto: http\n\tX-Forwarded-Proto: http\n2020-10-23 04:59:53,859 | root | INFO | \tConnection: close\n\tConnection: close\n2020-10-23 04:59:53,859 | root | INFO | \tContent-Length: 20\n\tContent-Length: 20\n2020-10-23 04:59:53,859 | root | INFO | \tUser-Agent: python-requests/2.24.0\n\tUser-Agent: python-requests/2.24.0\n2020-10-23 04:59:53,859 | root | INFO | \tContent-Type: application/json\n\tContent-Type: application/json\n2020-10-23 04:59:53,859 | root | INFO | \tAccept-Encoding: gzip, deflate\n\tAccept-Encoding: gzip, deflate\n2020-10-23 04:59:53,859 | root | INFO | \tAccept: */*\n\tAccept: */*\n2020-10-23 04:59:53,859 | root | INFO | \tX-Ms-Request-Id: b8a25b09-ebee-48d8-8006-d3bbeeb0f1b7\n\tX-Ms-Request-Id: b8a25b09-ebee-48d8-8006-d3bbeeb0f1b7\n2020-10-23 04:59:53,860 | root | INFO | Scoring Timer is set to 30.0 seconds\nScoring Timer is set to 30.0 seconds\nReceived [\"2020-10-23\", \"10\"]. Should show up in App Insights logs\n2020-10-23 04:59:53,860 | root | INFO | 200\n200\n127.0.0.1 - - [23/Oct/2020:04:59:53 +0000] \"POST /score HTTP/1.0\" 200 2 \"-\" \"python-requests/2.24.0\"\n2020-10-23 04:59:54,774 | root | INFO | Validation Request Content-Type\nValidation Request Content-Type\n2020-10-23 04:59:54,774 | root | INFO | \tHost: 40.76.146.87\n\tHost: 40.76.146.87\n2020-10-23 04:59:54,774 | root | INFO | \tX-Real-Ip: 10.240.1.12\n\tX-Real-Ip: 10.240.1.12\n2020-10-23 04:59:54,774 | root | INFO | \tX-Forwarded-For: 10.240.1.12\n\tX-Forwarded-For: 10.240.1.12\n2020-10-23 04:59:54,774 | root | INFO | \tX-Forwarded-Proto: http\n\tX-Forwarded-Proto: http\n2020-10-23 04:59:54,774 | root | INFO | \tConnection: close\n\tConnection: close\n2020-10-23 04:59:54,774 | root | INFO | \tContent-Length: 20\n\tContent-Length: 20\n2020-10-23 04:59:54,774 | root | INFO | \tUser-Agent: python-requests/2.24.0\n\tUser-Agent: python-requests/2.24.0\n2020-10-23 04:59:54,774 | root | INFO | \tContent-Type: application/json\n\tContent-Type: application/json\n2020-10-23 04:59:54,774 | root | INFO | \tAccept-Encoding: gzip, deflate\n\tAccept-Encoding: gzip, deflate\n2020-10-23 04:59:54,775 | root | INFO | \tAccept: */*\n\tAccept: */*\n2020-10-23 04:59:54,775 | root | INFO | \tX-Ms-Request-Id: c5224e65-e01a-4e67-a807-a5f9d3533cc7\n\tX-Ms-Request-Id: c5224e65-e01a-4e67-a807-a5f9d3533cc7\n2020-10-23 04:59:54,775 | root | INFO | Scoring Timer is set to 30.0 seconds\nScoring Timer is set to 30.0 seconds\nReceived [\"2020-10-23\", \"14\"]. Should show up in App Insights logs\n2020-10-23 04:59:54,775 | root | INFO | 200\n200\n127.0.0.1 - - [23/Oct/2020:04:59:54 +0000] \"POST /score HTTP/1.0\" 200 2 \"-\" \"python-requests/2.24.0\"\n2020-10-23 04:59:56,015 | root | INFO | Validation Request Content-Type\nValidation Request Content-Type\n2020-10-23 04:59:56,015 | root | INFO | \tHost: 40.76.146.87\n\tHost: 40.76.146.87\n2020-10-23 04:59:56,015 | root | INFO | \tX-Real-Ip: 10.240.1.53\n\tX-Real-Ip: 10.240.1.53\n2020-10-23 04:59:56,015 | root | INFO | \tX-Forwarded-For: 10.240.1.53\n\tX-Forwarded-For: 10.240.1.53\n2020-10-23 04:59:56,016 | root | INFO | \tX-Forwarded-Proto: http\n\tX-Forwarded-Proto: http\n2020-10-23 04:59:56,016 | root | INFO | \tConnection: close\n\tConnection: close\n2020-10-23 04:59:56,016 | root | INFO | \tContent-Length: 20\n\tContent-Length: 20\n2020-10-23 04:59:56,016 | root | INFO | \tUser-Agent: python-requests/2.24.0\n\tUser-Agent: python-requests/2.24.0\n2020-10-23 04:59:56,016 | root | INFO | \tContent-Type: application/json\n\tContent-Type: application/json\n2020-10-23 04:59:56,016 | root | INFO | \tAccept-Encoding: gzip, deflate\n\tAccept-Encoding: gzip, deflate\n2020-10-23 04:59:56,016 | root | INFO | \tAccept: */*\n\tAccept: */*\n2020-10-23 04:59:56,016 | root | INFO | \tX-Ms-Request-Id: 0088fb58-041d-4769-8dd5-f7e4ea4084bf\n\tX-Ms-Request-Id: 0088fb58-041d-4769-8dd5-f7e4ea4084bf\n2020-10-23 04:59:56,016 | root | INFO | Scoring Timer is set to 30.0 seconds\nScoring Timer is set to 30.0 seconds\nReceived [\"2020-10-23\", \"13\"]. Should show up in App Insights logs\n2020-10-23 04:59:56,016 | root | INFO | 200\n200\n127.0.0.1 - - [23/Oct/2020:04:59:56 +0000] \"POST /score HTTP/1.0\" 200 2 \"-\" \"python-requests/2.24.0\"\n2020-10-23 04:59:56,945 | root | INFO | Validation Request Content-Type\nValidation Request Content-Type\n2020-10-23 04:59:56,945 | root | INFO | \tHost: 40.76.146.87\n\tHost: 40.76.146.87\n2020-10-23 04:59:56,945 | root | INFO | \tX-Real-Ip: 10.240.0.166\n\tX-Real-Ip: 10.240.0.166\n2020-10-23 04:59:56,945 | root | INFO | \tX-Forwarded-For: 10.240.0.166\n\tX-Forwarded-For: 10.240.0.166\n2020-10-23 04:59:56,945 | root | INFO | \tX-Forwarded-Proto: http\n\tX-Forwarded-Proto: http\n2020-10-23 04:59:56,945 | root | INFO | \tConnection: close\n\tConnection: close\n2020-10-23 04:59:56,945 | root | INFO | \tContent-Length: 20\n\tContent-Length: 20\n2020-10-23 04:59:56,945 | root | INFO | \tUser-Agent: python-requests/2.24.0\n\tUser-Agent: python-requests/2.24.0\n2020-10-23 04:59:56,946 | root | INFO | \tContent-Type: application/json\n\tContent-Type: application/json\n2020-10-23 04:59:56,946 | root | INFO | \tAccept-Encoding: gzip, deflate\n\tAccept-Encoding: gzip, deflate\n2020-10-23 04:59:56,946 | root | INFO | \tAccept: */*\n\tAccept: */*\n2020-10-23 04:59:56,946 | root | INFO | \tX-Ms-Request-Id: 981dc247-c00f-48d9-a93b-f5efc8c11096\n\tX-Ms-Request-Id: 981dc247-c00f-48d9-a93b-f5efc8c11096\n2020-10-23 04:59:56,946 | root | INFO | Scoring Timer is set to 30.0 seconds\nScoring Timer is set to 30.0 seconds\nReceived [\"2020-10-23\", \"10\"]. Should show up in App Insights logs\n2020-10-23 04:59:56,947 | root | INFO | 200\n200\n127.0.0.1 - - [23/Oct/2020:04:59:56 +0000] \"POST /score HTTP/1.0\" 200 2 \"-\" \"python-requests/2.24.0\"\n2020-10-23 04:59:58,205 | root | INFO | Validation Request Content-Type\nValidation Request Content-Type\n2020-10-23 04:59:58,206 | root | INFO | \tHost: 40.76.146.87\n\tHost: 40.76.146.87\n2020-10-23 04:59:58,206 | root | INFO | \tX-Real-Ip: 10.240.0.166\n\tX-Real-Ip: 10.240.0.166\n2020-10-23 04:59:58,206 | root | INFO | \tX-Forwarded-For: 10.240.0.166\n\tX-Forwarded-For: 10.240.0.166\n2020-10-23 04:59:58,206 | root | INFO | \tX-Forwarded-Proto: http\n\tX-Forwarded-Proto: http\n2020-10-23 04:59:58,206 | root | INFO | \tConnection: close\n\tConnection: close\n2020-10-23 04:59:58,206 | root | INFO | \tContent-Length: 20\n\tContent-Length: 20\n2020-10-23 04:59:58,206 | root | INFO | \tUser-Agent: python-requests/2.24.0\n\tUser-Agent: python-requests/2.24.0\n2020-10-23 04:59:58,206 | root | INFO | \tContent-Type: application/json\n\tContent-Type: application/json\n2020-10-23 04:59:58,206 | root | INFO | \tAccept-Encoding: gzip, deflate\n\tAccept-Encoding: gzip, deflate\n2020-10-23 04:59:58,206 | root | INFO | \tAccept: */*\n\tAccept: */*\n2020-10-23 04:59:58,206 | root | INFO | \tX-Ms-Request-Id: e700b28d-0f67-4687-be08-3aa5515cb4d1\n\tX-Ms-Request-Id: e700b28d-0f67-4687-be08-3aa5515cb4d1\n2020-10-23 04:59:58,206 | root | INFO | Scoring Timer is set to 30.0 seconds\nScoring Timer is set to 30.0 seconds\nReceived [\"2020-10-23\", \"11\"]. Should show up in App Insights logs\n2020-10-23 04:59:58,207 | root | INFO | 200\n200\n127.0.0.1 - - [23/Oct/2020:04:59:58 +0000] \"POST /score HTTP/1.0\" 200 2 \"-\" \"python-requests/2.24.0\"\n2020-10-23 04:59:59,176 | root | INFO | Validation Request Content-Type\nValidation Request Content-Type\n2020-10-23 04:59:59,177 | root | INFO | \tHost: 40.76.146.87\n\tHost: 40.76.146.87\n2020-10-23 04:59:59,177 | root | INFO | \tX-Real-Ip: 10.240.1.12\n\tX-Real-Ip: 10.240.1.12\n2020-10-23 04:59:59,177 | root | INFO | \tX-Forwarded-For: 10.240.1.12\n\tX-Forwarded-For: 10.240.1.12\n2020-10-23 04:59:59,177 | root | INFO | \tX-Forwarded-Proto: http\n\tX-Forwarded-Proto: http\n2020-10-23 04:59:59,177 | root | INFO | \tConnection: close\n\tConnection: close\n2020-10-23 04:59:59,177 | root | INFO | \tContent-Length: 20\n\tContent-Length: 20\n2020-10-23 04:59:59,177 | root | INFO | \tUser-Agent: python-requests/2.24.0\n\tUser-Agent: python-requests/2.24.0\n2020-10-23 04:59:59,177 | root | INFO | \tContent-Type: application/json\n\tContent-Type: application/json\n2020-10-23 04:59:59,177 | root | INFO | \tAccept-Encoding: gzip, deflate\n\tAccept-Encoding: gzip, deflate\n2020-10-23 04:59:59,177 | root | INFO | \tAccept: */*\n\tAccept: */*\n2020-10-23 04:59:59,177 | root | INFO | \tX-Ms-Request-Id: b4958c48-c8d2-4b32-adad-af5412193aa9\n\tX-Ms-Request-Id: b4958c48-c8d2-4b32-adad-af5412193aa9\n2020-10-23 04:59:59,177 | root | INFO | Scoring Timer is set to 30.0 seconds\nScoring Timer is set to 30.0 seconds\nReceived [\"2020-10-23\", \"13\"]. Should show up in App Insights logs\n2020-10-23 04:59:59,178 | root | INFO | 200\n200\n127.0.0.1 - - [23/Oct/2020:04:59:59 +0000] \"POST /score HTTP/1.0\" 200 2 \"-\" \"python-requests/2.24.0\"\n2020-10-23 05:00:00,277 | root | INFO | Validation Request Content-Type\nValidation Request Content-Type\n2020-10-23 05:00:00,277 | root | INFO | \tHost: 40.76.146.87\n\tHost: 40.76.146.87\n2020-10-23 05:00:00,277 | root | INFO | \tX-Real-Ip: 10.240.1.12\n\tX-Real-Ip: 10.240.1.12\n2020-10-23 05:00:00,278 | root | INFO | \tX-Forwarded-For: 10.240.1.12\n\tX-Forwarded-For: 10.240.1.12\n2020-10-23 05:00:00,278 | root | INFO | \tX-Forwarded-Proto: http\n\tX-Forwarded-Proto: http\n2020-10-23 05:00:00,278 | root | INFO | \tConnection: close\n\tConnection: close\n2020-10-23 05:00:00,278 | root | INFO | \tContent-Length: 20\n\tContent-Length: 20\n2020-10-23 05:00:00,278 | root | INFO | \tUser-Agent: python-requests/2.24.0\n\tUser-Agent: python-requests/2.24.0\n2020-10-23 05:00:00,278 | root | INFO | \tContent-Type: application/json\n\tContent-Type: application/json\n2020-10-23 05:00:00,278 | root | INFO | \tAccept-Encoding: gzip, deflate\n\tAccept-Encoding: gzip, deflate\n2020-10-23 05:00:00,278 | root | INFO | \tAccept: */*\n\tAccept: */*\n2020-10-23 05:00:00,278 | root | INFO | \tX-Ms-Request-Id: b6aae91d-0573-48af-9bfa-28b5cc70f1d0\n\tX-Ms-Request-Id: b6aae91d-0573-48af-9bfa-28b5cc70f1d0\n2020-10-23 05:00:00,278 | root | INFO | Scoring Timer is set to 30.0 seconds\nScoring Timer is set to 30.0 seconds\nReceived [\"2020-10-23\", \"13\"]. Should show up in App Insights logs\n2020-10-23 05:00:00,278 | root | INFO | 200\n200\n127.0.0.1 - - [23/Oct/2020:05:00:00 +0000] \"POST /score HTTP/1.0\" 200 2 \"-\" \"python-requests/2.24.0\"\n2020-10-23 05:00:01,535 | root | INFO | Validation Request Content-Type\nValidation Request Content-Type\n2020-10-23 05:00:01,535 | root | INFO | \tHost: 40.76.146.87\n\tHost: 40.76.146.87\n2020-10-23 05:00:01,536 | root | INFO | \tX-Real-Ip: 10.240.1.12\n\tX-Real-Ip: 10.240.1.12\n2020-10-23 05:00:01,536 | root | INFO | \tX-Forwarded-For: 10.240.1.12\n\tX-Forwarded-For: 10.240.1.12\n2020-10-23 05:00:01,536 | root | INFO | \tX-Forwarded-Proto: http\n\tX-Forwarded-Proto: http\n2020-10-23 05:00:01,536 | root | INFO | \tConnection: close\n\tConnection: close\n2020-10-23 05:00:01,536 | root | INFO | \tContent-Length: 20\n\tContent-Length: 20\n2020-10-23 05:00:01,536 | root | INFO | \tUser-Agent: python-requests/2.24.0\n\tUser-Agent: python-requests/2.24.0\n2020-10-23 05:00:01,536 | root | INFO | \tContent-Type: application/json\n\tContent-Type: application/json\n2020-10-23 05:00:01,536 | root | INFO | \tAccept-Encoding: gzip, deflate\n\tAccept-Encoding: gzip, deflate\n2020-10-23 05:00:01,536 | root | INFO | \tAccept: */*\n\tAccept: */*\n2020-10-23 05:00:01,536 | root | INFO | \tX-Ms-Request-Id: 84e6d8df-b6de-4594-8117-2713de7ac0b0\n\tX-Ms-Request-Id: 84e6d8df-b6de-4594-8117-2713de7ac0b0\n2020-10-23 05:00:01,536 | root | INFO | Scoring Timer is set to 30.0 seconds\nScoring Timer is set to 30.0 seconds\nReceived [\"2020-10-23\", \"13\"]. Should show up in App Insights logs\n2020-10-23 05:00:01,537 | root | INFO | 200\n200\n127.0.0.1 - - [23/Oct/2020:05:00:01 +0000] \"POST /score HTTP/1.0\" 200 2 \"-\" \"python-requests/2.24.0\"\n2020-10-23 05:00:02,598 | root | INFO | Validation Request Content-Type\nValidation Request Content-Type\n2020-10-23 05:00:02,598 | root | INFO | \tHost: 40.76.146.87\n\tHost: 40.76.146.87\n2020-10-23 05:00:02,599 | root | INFO | \tX-Real-Ip: 10.240.0.166\n\tX-Real-Ip: 10.240.0.166\n2020-10-23 05:00:02,599 | root | INFO | \tX-Forwarded-For: 10.240.0.166\n\tX-Forwarded-For: 10.240.0.166\n2020-10-23 05:00:02,599 | root | INFO | \tX-Forwarded-Proto: http\n\tX-Forwarded-Proto: http\n2020-10-23 05:00:02,599 | root | INFO | \tConnection: close\n\tConnection: close\n2020-10-23 05:00:02,599 | root | INFO | \tContent-Length: 20\n\tContent-Length: 20\n2020-10-23 05:00:02,599 | root | INFO | \tUser-Agent: python-requests/2.24.0\n\tUser-Agent: python-requests/2.24.0\n2020-10-23 05:00:02,599 | root | INFO | \tContent-Type: application/json\n\tContent-Type: application/json\n2020-10-23 05:00:02,599 | root | INFO | \tAccept-Encoding: gzip, deflate\n\tAccept-Encoding: gzip, deflate\n2020-10-23 05:00:02,599 | root | INFO | \tAccept: */*\n\tAccept: */*\n2020-10-23 05:00:02,599 | root | INFO | \tX-Ms-Request-Id: a9556087-8071-4821-bc47-ddd3660822bc\n\tX-Ms-Request-Id: a9556087-8071-4821-bc47-ddd3660822bc\n2020-10-23 05:00:02,599 | root | INFO | Scoring Timer is set to 30.0 seconds\nScoring Timer is set to 30.0 seconds\nReceived [\"2020-10-23\", \"11\"]. Should show up in App Insights logs\n2020-10-23 05:00:02,600 | root | INFO | 200\n200\n127.0.0.1 - - [23/Oct/2020:05:00:02 +0000] \"POST /score HTTP/1.0\" 200 2 \"-\" \"python-requests/2.24.0\"\n2020-10-23 05:00:04,722 | root | INFO | Validation Request Content-Type\nValidation Request Content-Type\n2020-10-23 05:00:04,722 | root | INFO | \tHost: 40.76.146.87\n\tHost: 40.76.146.87\n2020-10-23 05:00:04,722 | root | INFO | \tX-Real-Ip: 10.240.1.53\n\tX-Real-Ip: 10.240.1.53\n2020-10-23 05:00:04,722 | root | INFO | \tX-Forwarded-For: 10.240.1.53\n\tX-Forwarded-For: 10.240.1.53\n2020-10-23 05:00:04,722 | root | INFO | \tX-Forwarded-Proto: http\n\tX-Forwarded-Proto: http\n2020-10-23 05:00:04,722 | root | INFO | \tConnection: close\n\tConnection: close\n2020-10-23 05:00:04,722 | root | INFO | \tContent-Length: 20\n\tContent-Length: 20\n2020-10-23 05:00:04,722 | root | INFO | \tUser-Agent: python-requests/2.24.0\n\tUser-Agent: python-requests/2.24.0\n2020-10-23 05:00:04,722 | root | INFO | \tContent-Type: application/json\n\tContent-Type: application/json\n2020-10-23 05:00:04,722 | root | INFO | \tAccept-Encoding: gzip, deflate\n\tAccept-Encoding: gzip, deflate\n2020-10-23 05:00:04,722 | root | INFO | \tAccept: */*\n\tAccept: */*\n2020-10-23 05:00:04,723 | root | INFO | \tX-Ms-Request-Id: 888e7588-b8b0-4f85-a9b6-975ff332814b\n\tX-Ms-Request-Id: 888e7588-b8b0-4f85-a9b6-975ff332814b\n2020-10-23 05:00:04,723 | root | INFO | Scoring Timer is set to 30.0 seconds\nScoring Timer is set to 30.0 seconds\nReceived [\"2020-10-23\", \"14\"]. Should show up in App Insights logs\n2020-10-23 05:00:04,723 | root | INFO | 200\n200\n127.0.0.1 - - [23/Oct/2020:05:00:04 +0000] \"POST /score HTTP/1.0\" 200 2 \"-\" \"python-requests/2.24.0\"\n2020-10-23 05:00:05,572 | root | INFO | Validation Request Content-Type\nValidation Request Content-Type\n2020-10-23 05:00:05,572 | root | INFO | \tHost: 40.76.146.87\n\tHost: 40.76.146.87\n2020-10-23 05:00:05,572 | root | INFO | \tX-Real-Ip: 10.240.0.166\n\tX-Real-Ip: 10.240.0.166\n2020-10-23 05:00:05,573 | root | INFO | \tX-Forwarded-For: 10.240.0.166\n\tX-Forwarded-For: 10.240.0.166\n2020-10-23 05:00:05,573 | root | INFO | \tX-Forwarded-Proto: http\n\tX-Forwarded-Proto: http\n2020-10-23 05:00:05,573 | root | INFO | \tConnection: close\n\tConnection: close\n2020-10-23 05:00:05,573 | root | INFO | \tContent-Length: 20\n\tContent-Length: 20\n2020-10-23 05:00:05,573 | root | INFO | \tUser-Agent: python-requests/2.24.0\n\tUser-Agent: python-requests/2.24.0\n2020-10-23 05:00:05,573 | root | INFO | \tContent-Type: application/json\n\tContent-Type: application/json\n2020-10-23 05:00:05,573 | root | INFO | \tAccept-Encoding: gzip, deflate\n\tAccept-Encoding: gzip, deflate\n2020-10-23 05:00:05,573 | root | INFO | \tAccept: */*\n\tAccept: */*\n2020-10-23 05:00:05,573 | root | INFO | \tX-Ms-Request-Id: 82cf6328-323b-40d7-85b5-203f59bdb181\n\tX-Ms-Request-Id: 82cf6328-323b-40d7-85b5-203f59bdb181\n2020-10-23 05:00:05,573 | root | INFO | Scoring Timer is set to 30.0 seconds\nScoring Timer is set to 30.0 seconds\nReceived [\"2020-10-23\", \"14\"]. Should show up in App Insights logs\n2020-10-23 05:00:05,574 | root | INFO | 200\n200\n127.0.0.1 - - [23/Oct/2020:05:00:05 +0000] \"POST /score HTTP/1.0\" 200 2 \"-\" \"python-requests/2.24.0\"\n2020-10-23 05:00:06,593 | root | INFO | Validation Request Content-Type\nValidation Request Content-Type\n2020-10-23 05:00:06,594 | root | INFO | \tHost: 40.76.146.87\n\tHost: 40.76.146.87\n2020-10-23 05:00:06,594 | root | INFO | \tX-Real-Ip: 10.240.1.53\n\tX-Real-Ip: 10.240.1.53\n2020-10-23 05:00:06,594 | root | INFO | \tX-Forwarded-For: 10.240.1.53\n\tX-Forwarded-For: 10.240.1.53\n2020-10-23 05:00:06,594 | root | INFO | \tX-Forwarded-Proto: http\n\tX-Forwarded-Proto: http\n2020-10-23 05:00:06,594 | root | INFO | \tConnection: close\n\tConnection: close\n2020-10-23 05:00:06,594 | root | INFO | \tContent-Length: 20\n\tContent-Length: 20\n2020-10-23 05:00:06,594 | root | INFO | \tUser-Agent: python-requests/2.24.0\n\tUser-Agent: python-requests/2.24.0\n2020-10-23 05:00:06,594 | root | INFO | \tContent-Type: application/json\n\tContent-Type: application/json\n2020-10-23 05:00:06,594 | root | INFO | \tAccept-Encoding: gzip, deflate\n\tAccept-Encoding: gzip, deflate\n2020-10-23 05:00:06,594 | root | INFO | \tAccept: */*\n\tAccept: */*\n2020-10-23 05:00:06,594 | root | INFO | \tX-Ms-Request-Id: 50c8fe3e-4c51-4593-845b-6179f427fe2f\n\tX-Ms-Request-Id: 50c8fe3e-4c51-4593-845b-6179f427fe2f\n2020-10-23 05:00:06,594 | root | INFO | Scoring Timer is set to 30.0 seconds\nScoring Timer is set to 30.0 seconds\nReceived [\"2020-10-23\", \"12\"]. Should show up in App Insights logs\n2020-10-23 05:00:06,595 | root | INFO | 200\n200\n127.0.0.1 - - [23/Oct/2020:05:00:06 +0000] \"POST /score HTTP/1.0\" 200 2 \"-\" \"python-requests/2.24.0\"\n2020-10-23 05:00:07,858 | root | INFO | Validation Request Content-Type\nValidation Request Content-Type\n2020-10-23 05:00:07,858 | root | INFO | \tHost: 40.76.146.87\n\tHost: 40.76.146.87\n2020-10-23 05:00:07,858 | root | INFO | \tX-Real-Ip: 10.240.1.53\n\tX-Real-Ip: 10.240.1.53\n2020-10-23 05:00:07,859 | root | INFO | \tX-Forwarded-For: 10.240.1.53\n\tX-Forwarded-For: 10.240.1.53\n2020-10-23 05:00:07,859 | root | INFO | \tX-Forwarded-Proto: http\n\tX-Forwarded-Proto: http\n2020-10-23 05:00:07,859 | root | INFO | \tConnection: close\n\tConnection: close\n2020-10-23 05:00:07,859 | root | INFO | \tContent-Length: 20\n\tContent-Length: 20\n2020-10-23 05:00:07,859 | root | INFO | \tUser-Agent: python-requests/2.24.0\n\tUser-Agent: python-requests/2.24.0\n2020-10-23 05:00:07,859 | root | INFO | \tContent-Type: application/json\n\tContent-Type: application/json\n2020-10-23 05:00:07,859 | root | INFO | \tAccept-Encoding: gzip, deflate\n\tAccept-Encoding: gzip, deflate\n2020-10-23 05:00:07,859 | root | INFO | \tAccept: */*\n\tAccept: */*\n2020-10-23 05:00:07,859 | root | INFO | \tX-Ms-Request-Id: f82c5627-d195-4ff1-a0be-e9abea06057b\n\tX-Ms-Request-Id: f82c5627-d195-4ff1-a0be-e9abea06057b\n2020-10-23 05:00:07,859 | root | INFO | Scoring Timer is set to 30.0 seconds\nScoring Timer is set to 30.0 seconds\nReceived [\"2020-10-23\", \"14\"]. Should show up in App Insights logs\n2020-10-23 05:00:07,860 | root | INFO | 200\n200\n127.0.0.1 - - [23/Oct/2020:05:00:07 +0000] \"POST /score HTTP/1.0\" 200 2 \"-\" \"python-requests/2.24.0\"\n\n"
     ]
    }
   ],
   "source": [
    "print(service.get_logs())"
   ]
  },
  {
   "cell_type": "code",
   "execution_count": null,
   "metadata": {},
   "outputs": [],
   "source": []
  }
 ]
}